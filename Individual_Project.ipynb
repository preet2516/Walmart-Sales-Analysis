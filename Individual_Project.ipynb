{
 "cells": [
  {
   "cell_type": "markdown",
   "id": "fd83507c",
   "metadata": {},
   "source": [
    "# Packages"
   ]
  },
  {
   "cell_type": "code",
   "execution_count": 7,
   "id": "NWr6LMihIXRK",
   "metadata": {
    "id": "NWr6LMihIXRK"
   },
   "outputs": [],
   "source": [
    "import pandas as pd\n",
    "import numpy as np\n",
    "import seaborn as sns\n",
    "import matplotlib.pyplot as plt\n",
    "%matplotlib inline\n",
    "import plotly.express as px\n",
    "import statsmodels as sm\n",
    "import statsmodels.api as sm\n",
    "import statsmodels.tsa.api as smt\n",
    "import statsmodels.tsa as tsa\n",
    "from statsmodels.tsa.seasonal import seasonal_decompose as sd\n",
    "import plotly.graph_objects as go\n",
    "import pandas.testing\n",
    "import missingno as msno"
   ]
  },
  {
   "cell_type": "code",
   "execution_count": 8,
   "id": "oeuRNqT1IlfI",
   "metadata": {
    "id": "oeuRNqT1IlfI"
   },
   "outputs": [],
   "source": [
    "#pip install Prophet\n",
    "#pip install plotly --upgrade"
   ]
  },
  {
   "cell_type": "code",
   "execution_count": 9,
   "id": "hL_M6_G7f0TO",
   "metadata": {
    "id": "hL_M6_G7f0TO"
   },
   "outputs": [],
   "source": [
    "#pip install plotly --upgrade"
   ]
  },
  {
   "cell_type": "code",
   "execution_count": 10,
   "id": "zDCSypSiIdFy",
   "metadata": {
    "id": "zDCSypSiIdFy"
   },
   "outputs": [],
   "source": [
    "\n",
    "\n",
    "from sklearn.model_selection import TimeSeriesSplit, train_test_split\n",
    "from sklearn.model_selection import cross_val_score\n",
    "from sklearn.preprocessing import StandardScaler\n",
    "from sklearn.ensemble import RandomForestRegressor\n",
    "from sklearn.linear_model import LinearRegression\n",
    "from sklearn.model_selection import train_test_split\n",
    "from sklearn import linear_model\n",
    "from sklearn.linear_model import LinearRegression\n",
    "from sklearn import metrics\n",
    "from datetime import timedelta\n",
    "import warnings\n",
    "warnings.filterwarnings(\"ignore\")"
   ]
  },
  {
   "cell_type": "markdown",
   "id": "CYrse2u1RzhR",
   "metadata": {
    "id": "CYrse2u1RzhR"
   },
   "source": [
    "# Load dataset"
   ]
  },
  {
   "cell_type": "code",
   "execution_count": 11,
   "id": "V6tZvCCmJZL4",
   "metadata": {
    "colab": {
     "base_uri": "https://localhost:8080/"
    },
    "id": "V6tZvCCmJZL4",
    "outputId": "6cee8ca9-6c8c-4686-a6e8-1f8feb121376"
   },
   "outputs": [
    {
     "name": "stdout",
     "output_type": "stream",
     "text": [
      "Drive already mounted at /content/drive; to attempt to forcibly remount, call drive.mount(\"/content/drive\", force_remount=True).\n"
     ]
    }
   ],
   "source": [
    "from google.colab import drive\n",
    "drive.mount('/content/drive')"
   ]
  },
  {
   "cell_type": "code",
   "execution_count": 12,
   "id": "KIMpMhJ9JfCI",
   "metadata": {
    "id": "KIMpMhJ9JfCI"
   },
   "outputs": [],
   "source": [
    "# Here I am importing all the dataset files from google Drive\n",
    "\n",
    "features = pd.read_csv('drive/MyDrive/MK/features.csv')\n",
    "stores = pd.read_csv('drive/MyDrive/MK/stores.csv')\n",
    "train = pd.read_csv('drive/MyDrive/MK/train.csv')\n",
    "test = pd.read_csv('drive/MyDrive/MK/test.csv')"
   ]
  },
  {
   "cell_type": "code",
   "execution_count": 13,
   "id": "_kKmHNdsIXRN",
   "metadata": {
    "colab": {
     "base_uri": "https://localhost:8080/"
    },
    "id": "_kKmHNdsIXRN",
    "outputId": "bd2b4146-e80e-4713-e42e-f0f7241efb56"
   },
   "outputs": [
    {
     "name": "stdout",
     "output_type": "stream",
     "text": [
      "   Store        Date  Temperature  ...         CPI  Unemployment  IsHoliday\n",
      "0      1  2010-02-05        42.31  ...  211.096358         8.106      False\n",
      "1      1  2010-02-12        38.51  ...  211.242170         8.106       True\n",
      "2      1  2010-02-19        39.93  ...  211.289143         8.106      False\n",
      "3      1  2010-02-26        46.63  ...  211.319643         8.106      False\n",
      "4      1  2010-03-05        46.50  ...  211.350143         8.106      False\n",
      "\n",
      "[5 rows x 12 columns]\n",
      "\n",
      "\n",
      "   Store Type    Size\n",
      "0      1    A  151315\n",
      "1      2    A  202307\n",
      "2      3    B   37392\n",
      "3      4    A  205863\n",
      "4      5    B   34875\n",
      "\n",
      "\n",
      "   Store  Dept        Date  Weekly_Sales  IsHoliday\n",
      "0      1     1  2010-02-05      24924.50      False\n",
      "1      1     1  2010-02-12      46039.49       True\n",
      "2      1     1  2010-02-19      41595.55      False\n",
      "3      1     1  2010-02-26      19403.54      False\n",
      "4      1     1  2010-03-05      21827.90      False\n",
      "\n",
      "\n",
      "   Store  Dept        Date  IsHoliday\n",
      "0      1     1  2012-11-02      False\n",
      "1      1     1  2012-11-09      False\n",
      "2      1     1  2012-11-16      False\n",
      "3      1     1  2012-11-23       True\n",
      "4      1     1  2012-11-30      False\n"
     ]
    }
   ],
   "source": [
    "#Displaying all the dataset \n",
    "# In OUTPUT we can see that all the dataset have 1 column in common, that is storeid.\n",
    " \n",
    "print(features.head(5))\n",
    "print('\\n')\n",
    "print(stores.head(5))\n",
    "print('\\n')\n",
    "print(train.head(5))\n",
    "print('\\n')\n",
    "print(test.head(5))"
   ]
  },
  {
   "cell_type": "code",
   "execution_count": 14,
   "id": "Ia0Wnt0GIXRN",
   "metadata": {
    "colab": {
     "base_uri": "https://localhost:8080/"
    },
    "id": "Ia0Wnt0GIXRN",
    "outputId": "2db822fd-7e23-4837-d443-63c56c23ae44"
   },
   "outputs": [
    {
     "name": "stdout",
     "output_type": "stream",
     "text": [
      "features (8190, 12)\n",
      "stores (45, 3)\n",
      "train (421570, 5)\n",
      "test (115064, 4)\n"
     ]
    }
   ],
   "source": [
    "#Here I am checking the shape of all the dataset files.\n",
    "\n",
    "print('features', features.shape)\n",
    "print('stores', stores.shape)\n",
    "print('train', train.shape)\n",
    "print('test', test.shape)"
   ]
  },
  {
   "cell_type": "markdown",
   "id": "kK747g9aqQgn",
   "metadata": {
    "id": "kK747g9aqQgn"
   },
   "source": [
    "# Data Cleaning"
   ]
  },
  {
   "cell_type": "code",
   "execution_count": 15,
   "id": "EA4j8ROVIXRO",
   "metadata": {
    "id": "EA4j8ROVIXRO"
   },
   "outputs": [],
   "source": [
    "#Here I ma merging Feature DAtaset with the Stores dataset.\n",
    "#I am using Left join for joining dataset because I only want the store details that is available in feature dataset.\n",
    "#both dataset are linked with eachother on storeid\n",
    "\n",
    "merge1 = train.merge(features, 'left').merge(stores, 'left')"
   ]
  },
  {
   "cell_type": "code",
   "execution_count": 16,
   "id": "h1ca48W4IXRO",
   "metadata": {
    "colab": {
     "base_uri": "https://localhost:8080/",
     "height": 0
    },
    "id": "h1ca48W4IXRO",
    "outputId": "e98b971e-a50d-44a9-d6ac-4c3566b814f3"
   },
   "outputs": [
    {
     "data": {
      "text/html": [
       "<div>\n",
       "<style scoped>\n",
       "    .dataframe tbody tr th:only-of-type {\n",
       "        vertical-align: middle;\n",
       "    }\n",
       "\n",
       "    .dataframe tbody tr th {\n",
       "        vertical-align: top;\n",
       "    }\n",
       "\n",
       "    .dataframe thead th {\n",
       "        text-align: right;\n",
       "    }\n",
       "</style>\n",
       "<table border=\"1\" class=\"dataframe\">\n",
       "  <thead>\n",
       "    <tr style=\"text-align: right;\">\n",
       "      <th></th>\n",
       "      <th>Store</th>\n",
       "      <th>Dept</th>\n",
       "      <th>Date</th>\n",
       "      <th>Weekly_Sales</th>\n",
       "      <th>IsHoliday</th>\n",
       "      <th>Temperature</th>\n",
       "      <th>Fuel_Price</th>\n",
       "      <th>MarkDown1</th>\n",
       "      <th>MarkDown2</th>\n",
       "      <th>MarkDown3</th>\n",
       "      <th>MarkDown4</th>\n",
       "      <th>MarkDown5</th>\n",
       "      <th>CPI</th>\n",
       "      <th>Unemployment</th>\n",
       "      <th>Type</th>\n",
       "      <th>Size</th>\n",
       "    </tr>\n",
       "  </thead>\n",
       "  <tbody>\n",
       "    <tr>\n",
       "      <th>0</th>\n",
       "      <td>1</td>\n",
       "      <td>1</td>\n",
       "      <td>2010-02-05</td>\n",
       "      <td>24924.50</td>\n",
       "      <td>False</td>\n",
       "      <td>42.31</td>\n",
       "      <td>2.572</td>\n",
       "      <td>NaN</td>\n",
       "      <td>NaN</td>\n",
       "      <td>NaN</td>\n",
       "      <td>NaN</td>\n",
       "      <td>NaN</td>\n",
       "      <td>211.096358</td>\n",
       "      <td>8.106</td>\n",
       "      <td>A</td>\n",
       "      <td>151315</td>\n",
       "    </tr>\n",
       "    <tr>\n",
       "      <th>1</th>\n",
       "      <td>1</td>\n",
       "      <td>1</td>\n",
       "      <td>2010-02-12</td>\n",
       "      <td>46039.49</td>\n",
       "      <td>True</td>\n",
       "      <td>38.51</td>\n",
       "      <td>2.548</td>\n",
       "      <td>NaN</td>\n",
       "      <td>NaN</td>\n",
       "      <td>NaN</td>\n",
       "      <td>NaN</td>\n",
       "      <td>NaN</td>\n",
       "      <td>211.242170</td>\n",
       "      <td>8.106</td>\n",
       "      <td>A</td>\n",
       "      <td>151315</td>\n",
       "    </tr>\n",
       "    <tr>\n",
       "      <th>2</th>\n",
       "      <td>1</td>\n",
       "      <td>1</td>\n",
       "      <td>2010-02-19</td>\n",
       "      <td>41595.55</td>\n",
       "      <td>False</td>\n",
       "      <td>39.93</td>\n",
       "      <td>2.514</td>\n",
       "      <td>NaN</td>\n",
       "      <td>NaN</td>\n",
       "      <td>NaN</td>\n",
       "      <td>NaN</td>\n",
       "      <td>NaN</td>\n",
       "      <td>211.289143</td>\n",
       "      <td>8.106</td>\n",
       "      <td>A</td>\n",
       "      <td>151315</td>\n",
       "    </tr>\n",
       "    <tr>\n",
       "      <th>3</th>\n",
       "      <td>1</td>\n",
       "      <td>1</td>\n",
       "      <td>2010-02-26</td>\n",
       "      <td>19403.54</td>\n",
       "      <td>False</td>\n",
       "      <td>46.63</td>\n",
       "      <td>2.561</td>\n",
       "      <td>NaN</td>\n",
       "      <td>NaN</td>\n",
       "      <td>NaN</td>\n",
       "      <td>NaN</td>\n",
       "      <td>NaN</td>\n",
       "      <td>211.319643</td>\n",
       "      <td>8.106</td>\n",
       "      <td>A</td>\n",
       "      <td>151315</td>\n",
       "    </tr>\n",
       "    <tr>\n",
       "      <th>4</th>\n",
       "      <td>1</td>\n",
       "      <td>1</td>\n",
       "      <td>2010-03-05</td>\n",
       "      <td>21827.90</td>\n",
       "      <td>False</td>\n",
       "      <td>46.50</td>\n",
       "      <td>2.625</td>\n",
       "      <td>NaN</td>\n",
       "      <td>NaN</td>\n",
       "      <td>NaN</td>\n",
       "      <td>NaN</td>\n",
       "      <td>NaN</td>\n",
       "      <td>211.350143</td>\n",
       "      <td>8.106</td>\n",
       "      <td>A</td>\n",
       "      <td>151315</td>\n",
       "    </tr>\n",
       "  </tbody>\n",
       "</table>\n",
       "</div>"
      ],
      "text/plain": [
       "   Store  Dept        Date  Weekly_Sales  ...         CPI  Unemployment  Type    Size\n",
       "0      1     1  2010-02-05      24924.50  ...  211.096358         8.106     A  151315\n",
       "1      1     1  2010-02-12      46039.49  ...  211.242170         8.106     A  151315\n",
       "2      1     1  2010-02-19      41595.55  ...  211.289143         8.106     A  151315\n",
       "3      1     1  2010-02-26      19403.54  ...  211.319643         8.106     A  151315\n",
       "4      1     1  2010-03-05      21827.90  ...  211.350143         8.106     A  151315\n",
       "\n",
       "[5 rows x 16 columns]"
      ]
     },
     "execution_count": 16,
     "metadata": {},
     "output_type": "execute_result"
    }
   ],
   "source": [
    "merge1.head(5)"
   ]
  },
  {
   "cell_type": "code",
   "execution_count": 17,
   "id": "EdJ-a6JFIXRP",
   "metadata": {
    "id": "EdJ-a6JFIXRP"
   },
   "outputs": [],
   "source": [
    "#Here i am merging another file train with the Merge1 files thye main reason behinf to merge this file is, ytrain dataset contains Weekly_Sales records which i needed for visualization and to train the model.\n",
    "#dataframe Final_dataframe is my final dataframe \n",
    "\n",
    "Final_dataframe = train.merge(merge1, 'left').merge(train, 'left')"
   ]
  },
  {
   "cell_type": "code",
   "execution_count": 18,
   "id": "BObwqV2NIXRQ",
   "metadata": {
    "colab": {
     "base_uri": "https://localhost:8080/"
    },
    "id": "BObwqV2NIXRQ",
    "outputId": "bad1a9c6-69a3-4ad6-d309-70ec29d0f28a"
   },
   "outputs": [
    {
     "data": {
      "text/plain": [
       "Store                0\n",
       "Dept                 0\n",
       "Date                 0\n",
       "Weekly_Sales         0\n",
       "IsHoliday            0\n",
       "Temperature          0\n",
       "Fuel_Price           0\n",
       "MarkDown1       270889\n",
       "MarkDown2       310322\n",
       "MarkDown3       284479\n",
       "MarkDown4       286603\n",
       "MarkDown5       270138\n",
       "CPI                  0\n",
       "Unemployment         0\n",
       "Type                 0\n",
       "Size                 0\n",
       "dtype: int64"
      ]
     },
     "execution_count": 18,
     "metadata": {},
     "output_type": "execute_result"
    }
   ],
   "source": [
    "#here I am check the null values in all the columns.\n",
    "\n",
    "#The Markdown1,Markdown1,Markdown2,Markdown3, Markdown4, Markdown5\n",
    "\n",
    "# Markdown 1 to 5 is Anonymized data related to promotional markdowns that Walmart is running. \n",
    "# Markdown data is only available after November 2011, and is not available for all stores all the time. \n",
    "# Any missing value is marked with Null.\n",
    "\n",
    "Final_dataframe.isnull().sum()"
   ]
  },
  {
   "cell_type": "code",
   "execution_count": 19,
   "id": "zy5XUFQkIXRQ",
   "metadata": {
    "id": "zy5XUFQkIXRQ"
   },
   "outputs": [],
   "source": [
    "#Here I decided to remove Markdown columns from the dataframe because I think rightnow it is not useful \n",
    "\n",
    "clean_dataframe = Final_dataframe.drop(['MarkDown1','MarkDown2','MarkDown3','MarkDown4','MarkDown5'], axis = 1)"
   ]
  },
  {
   "cell_type": "code",
   "execution_count": 20,
   "id": "mnvY6DN2IXRR",
   "metadata": {
    "colab": {
     "base_uri": "https://localhost:8080/"
    },
    "id": "mnvY6DN2IXRR",
    "outputId": "368f048a-6b86-409d-fd48-d60321773c64"
   },
   "outputs": [
    {
     "data": {
      "text/plain": [
       "Store           0.0\n",
       "Dept            0.0\n",
       "Date            0.0\n",
       "Weekly_Sales    0.0\n",
       "IsHoliday       0.0\n",
       "Temperature     0.0\n",
       "Fuel_Price      0.0\n",
       "CPI             0.0\n",
       "Unemployment    0.0\n",
       "Type            0.0\n",
       "Size            0.0\n",
       "dtype: float64"
      ]
     },
     "execution_count": 20,
     "metadata": {},
     "output_type": "execute_result"
    }
   ],
   "source": [
    "# Percentage of missing Values\n",
    "\n",
    "clean_dataframe.isna().sum()/len(clean_dataframe)*100"
   ]
  },
  {
   "cell_type": "code",
   "execution_count": 21,
   "id": "enwKscSqIXRR",
   "metadata": {
    "colab": {
     "base_uri": "https://localhost:8080/"
    },
    "id": "enwKscSqIXRR",
    "outputId": "e2d58620-fd60-4888-a285-f0409baa4db1"
   },
   "outputs": [
    {
     "name": "stdout",
     "output_type": "stream",
     "text": [
      "<class 'pandas.core.frame.DataFrame'>\n",
      "Int64Index: 421570 entries, 0 to 421569\n",
      "Data columns (total 11 columns):\n",
      " #   Column        Non-Null Count   Dtype  \n",
      "---  ------        --------------   -----  \n",
      " 0   Store         421570 non-null  int64  \n",
      " 1   Dept          421570 non-null  int64  \n",
      " 2   Date          421570 non-null  object \n",
      " 3   Weekly_Sales  421570 non-null  float64\n",
      " 4   IsHoliday     421570 non-null  bool   \n",
      " 5   Temperature   421570 non-null  float64\n",
      " 6   Fuel_Price    421570 non-null  float64\n",
      " 7   CPI           421570 non-null  float64\n",
      " 8   Unemployment  421570 non-null  float64\n",
      " 9   Type          421570 non-null  object \n",
      " 10  Size          421570 non-null  int64  \n",
      "dtypes: bool(1), float64(5), int64(3), object(2)\n",
      "memory usage: 35.8+ MB\n"
     ]
    }
   ],
   "source": [
    "clean_dataframe.info()"
   ]
  },
  {
   "cell_type": "code",
   "execution_count": 22,
   "id": "Wn1Y6gqjksvX",
   "metadata": {
    "id": "Wn1Y6gqjksvX"
   },
   "outputs": [],
   "source": [
    "#Here I am converting Date column to DATETIME. \n",
    "#I am doing this because I want to extract the data from Date columns.\n",
    "\n",
    "clean_dataframe['Date'] = pd.to_datetime(clean_dataframe['Date'])"
   ]
  },
  {
   "cell_type": "code",
   "execution_count": 23,
   "id": "geKCK4yFlGGH",
   "metadata": {
    "id": "geKCK4yFlGGH"
   },
   "outputs": [],
   "source": [
    "#Here I am extracting Week and Year records from Date columns and putting them in the new columns\n",
    "\n",
    "clean_dataframe['week'] = clean_dataframe.Date.dt.isocalendar().week\n",
    "clean_dataframe['year'] = clean_dataframe.Date.dt.isocalendar().year\n"
   ]
  },
  {
   "cell_type": "code",
   "execution_count": 24,
   "id": "8WE2iQnepqeT",
   "metadata": {
    "id": "8WE2iQnepqeT"
   },
   "outputs": [],
   "source": [
    "# For extra Day and Month I use different code necause I was getting error while extracting Month record and I was getting same value in Day.\n",
    "clean_dataframe[\"Day\"] = pd.DatetimeIndex(clean_dataframe['Date']).day\n",
    "clean_dataframe['Month'] = pd.DatetimeIndex(clean_dataframe['Date']).month\n"
   ]
  },
  {
   "cell_type": "code",
   "execution_count": 25,
   "id": "WEMMgTD19m7h",
   "metadata": {
    "id": "WEMMgTD19m7h"
   },
   "outputs": [],
   "source": [
    "clean_dataframe.replace({False: 0, True: 1}, inplace=True)"
   ]
  },
  {
   "cell_type": "code",
   "execution_count": 26,
   "id": "eMFIgx9BlG7L",
   "metadata": {
    "colab": {
     "base_uri": "https://localhost:8080/",
     "height": 0
    },
    "id": "eMFIgx9BlG7L",
    "outputId": "b1eb7a9c-5b5e-4d82-b5c1-4b3365eb739d"
   },
   "outputs": [
    {
     "data": {
      "text/html": [
       "<div>\n",
       "<style scoped>\n",
       "    .dataframe tbody tr th:only-of-type {\n",
       "        vertical-align: middle;\n",
       "    }\n",
       "\n",
       "    .dataframe tbody tr th {\n",
       "        vertical-align: top;\n",
       "    }\n",
       "\n",
       "    .dataframe thead th {\n",
       "        text-align: right;\n",
       "    }\n",
       "</style>\n",
       "<table border=\"1\" class=\"dataframe\">\n",
       "  <thead>\n",
       "    <tr style=\"text-align: right;\">\n",
       "      <th></th>\n",
       "      <th>Store</th>\n",
       "      <th>Dept</th>\n",
       "      <th>Date</th>\n",
       "      <th>Weekly_Sales</th>\n",
       "      <th>IsHoliday</th>\n",
       "      <th>Temperature</th>\n",
       "      <th>Fuel_Price</th>\n",
       "      <th>CPI</th>\n",
       "      <th>Unemployment</th>\n",
       "      <th>Type</th>\n",
       "      <th>Size</th>\n",
       "      <th>week</th>\n",
       "      <th>year</th>\n",
       "      <th>Day</th>\n",
       "      <th>Month</th>\n",
       "    </tr>\n",
       "  </thead>\n",
       "  <tbody>\n",
       "    <tr>\n",
       "      <th>0</th>\n",
       "      <td>1</td>\n",
       "      <td>1</td>\n",
       "      <td>2010-02-05</td>\n",
       "      <td>24924.50</td>\n",
       "      <td>0</td>\n",
       "      <td>42.31</td>\n",
       "      <td>2.572</td>\n",
       "      <td>211.096358</td>\n",
       "      <td>8.106</td>\n",
       "      <td>A</td>\n",
       "      <td>151315</td>\n",
       "      <td>5</td>\n",
       "      <td>2010</td>\n",
       "      <td>5</td>\n",
       "      <td>2</td>\n",
       "    </tr>\n",
       "    <tr>\n",
       "      <th>1</th>\n",
       "      <td>1</td>\n",
       "      <td>1</td>\n",
       "      <td>2010-02-12</td>\n",
       "      <td>46039.49</td>\n",
       "      <td>1</td>\n",
       "      <td>38.51</td>\n",
       "      <td>2.548</td>\n",
       "      <td>211.242170</td>\n",
       "      <td>8.106</td>\n",
       "      <td>A</td>\n",
       "      <td>151315</td>\n",
       "      <td>6</td>\n",
       "      <td>2010</td>\n",
       "      <td>12</td>\n",
       "      <td>2</td>\n",
       "    </tr>\n",
       "    <tr>\n",
       "      <th>2</th>\n",
       "      <td>1</td>\n",
       "      <td>1</td>\n",
       "      <td>2010-02-19</td>\n",
       "      <td>41595.55</td>\n",
       "      <td>0</td>\n",
       "      <td>39.93</td>\n",
       "      <td>2.514</td>\n",
       "      <td>211.289143</td>\n",
       "      <td>8.106</td>\n",
       "      <td>A</td>\n",
       "      <td>151315</td>\n",
       "      <td>7</td>\n",
       "      <td>2010</td>\n",
       "      <td>19</td>\n",
       "      <td>2</td>\n",
       "    </tr>\n",
       "    <tr>\n",
       "      <th>3</th>\n",
       "      <td>1</td>\n",
       "      <td>1</td>\n",
       "      <td>2010-02-26</td>\n",
       "      <td>19403.54</td>\n",
       "      <td>0</td>\n",
       "      <td>46.63</td>\n",
       "      <td>2.561</td>\n",
       "      <td>211.319643</td>\n",
       "      <td>8.106</td>\n",
       "      <td>A</td>\n",
       "      <td>151315</td>\n",
       "      <td>8</td>\n",
       "      <td>2010</td>\n",
       "      <td>26</td>\n",
       "      <td>2</td>\n",
       "    </tr>\n",
       "    <tr>\n",
       "      <th>4</th>\n",
       "      <td>1</td>\n",
       "      <td>1</td>\n",
       "      <td>2010-03-05</td>\n",
       "      <td>21827.90</td>\n",
       "      <td>0</td>\n",
       "      <td>46.50</td>\n",
       "      <td>2.625</td>\n",
       "      <td>211.350143</td>\n",
       "      <td>8.106</td>\n",
       "      <td>A</td>\n",
       "      <td>151315</td>\n",
       "      <td>9</td>\n",
       "      <td>2010</td>\n",
       "      <td>5</td>\n",
       "      <td>3</td>\n",
       "    </tr>\n",
       "  </tbody>\n",
       "</table>\n",
       "</div>"
      ],
      "text/plain": [
       "   Store  Dept       Date  Weekly_Sales  ...  week  year  Day  Month\n",
       "0      1     1 2010-02-05      24924.50  ...     5  2010    5      2\n",
       "1      1     1 2010-02-12      46039.49  ...     6  2010   12      2\n",
       "2      1     1 2010-02-19      41595.55  ...     7  2010   19      2\n",
       "3      1     1 2010-02-26      19403.54  ...     8  2010   26      2\n",
       "4      1     1 2010-03-05      21827.90  ...     9  2010    5      3\n",
       "\n",
       "[5 rows x 15 columns]"
      ]
     },
     "execution_count": 26,
     "metadata": {},
     "output_type": "execute_result"
    }
   ],
   "source": [
    "clean_dataframe.head(5)"
   ]
  },
  {
   "cell_type": "markdown",
   "id": "YGW3bdDyQfGn",
   "metadata": {
    "id": "YGW3bdDyQfGn"
   },
   "source": [
    "# EDA"
   ]
  },
  {
   "cell_type": "markdown",
   "id": "NDK6sL6yqeVi",
   "metadata": {
    "id": "NDK6sL6yqeVi"
   },
   "source": [
    "## **Which store has maximum sales ?**\n",
    "#### Here I am checking each store sales by comparing with other stores by Weekly_Sales"
   ]
  },
  {
   "cell_type": "code",
   "execution_count": 25,
   "id": "xxCAXub2ouJh",
   "metadata": {
    "colab": {
     "base_uri": "https://localhost:8080/",
     "height": 0
    },
    "id": "xxCAXub2ouJh",
    "outputId": "16f6b1f2-4f46-43d8-cfeb-7cfa72033412"
   },
   "outputs": [
    {
     "data": {
      "text/plain": [
       "<matplotlib.axes._subplots.AxesSubplot at 0x7f635939d550>"
      ]
     },
     "execution_count": 25,
     "metadata": {},
     "output_type": "execute_result"
    },
    {
     "data": {
      "image/png": "[encoded data removed]",
      "text/plain": [
       "<Figure size 1080x504 with 1 Axes>"
      ]
     },
     "metadata": {
      "needs_background": "light"
     },
     "output_type": "display_data"
    }
   ],
   "source": [
    "total_sales = clean_dataframe.groupby('Store')['Weekly_Sales'].sum().sort_values() \n",
    "total_sales_array = np.array(total_sales)\n",
    "plt.figure(figsize=(15,7))\n",
    "plt.xticks(rotation=0)\n",
    "plt.ticklabel_format(useOffset=False, style='plain', axis='y')\n",
    "plt.title('Total sales for each store')\n",
    "plt.xlabel('Store')\n",
    "plt.ylabel('Total Sales')\n",
    "total_sales.plot(kind='bar')"
   ]
  },
  {
   "cell_type": "markdown",
   "id": "TRgaj3pGq8Cg",
   "metadata": {
    "id": "TRgaj3pGq8Cg"
   },
   "source": [
    "### Here from the Bar chart we can assume that Storeid 20, 4 had maximum sales compare to other stores however, storeid 33,44,5 and 36 had wrost sales\n",
    "\n"
   ]
  },
  {
   "cell_type": "markdown",
   "id": "p71R6vcisJ7f",
   "metadata": {
    "id": "p71R6vcisJ7f"
   },
   "source": [
    "## **Which stores has best quarterly growth rate in year 2012 ?**"
   ]
  },
  {
   "cell_type": "code",
   "execution_count": 26,
   "id": "_o7LvbD0ouMI",
   "metadata": {
    "colab": {
     "base_uri": "https://localhost:8080/",
     "height": 0
    },
    "id": "_o7LvbD0ouMI",
    "outputId": "5a56f1e8-0793-4a09-8d9e-aa4bcd94b751"
   },
   "outputs": [
    {
     "data": {
      "text/plain": [
       "<matplotlib.legend.Legend at 0x7f6356a4e9d0>"
      ]
     },
     "execution_count": 26,
     "metadata": {},
     "output_type": "execute_result"
    },
    {
     "data": {
      "image/png": "[encoded data removed]",
      "text/plain": [
       "<Figure size 2160x1080 with 1 Axes>"
      ]
     },
     "metadata": {
      "needs_background": "light"
     },
     "output_type": "display_data"
    }
   ],
   "source": [
    "# Sales for second and third quarter in 2012\n",
    "quarter_1_sales = clean_dataframe[(clean_dataframe['Date'] >= '2012-01-01') & (clean_dataframe['Date'] <= '2012-03-30')].groupby('Store')['Weekly_Sales'].sum()\n",
    "quarter_2_sales = clean_dataframe[(clean_dataframe['Date'] >= '2012-04-01') & (clean_dataframe['Date'] <= '2012-06-30')].groupby('Store')['Weekly_Sales'].sum()\n",
    "quarter_3_sales = clean_dataframe[(clean_dataframe['Date'] >= '2012-07-01') & (clean_dataframe['Date'] <= '2012-09-30')].groupby('Store')['Weekly_Sales'].sum()\n",
    "quarter_4_sales = clean_dataframe[(clean_dataframe['Date'] >= '2012-10-01') & (clean_dataframe['Date'] <= '2012-12-31')].groupby('Store')['Weekly_Sales'].sum()\n",
    "\n",
    "# Plotting the difference between sales for second and third quarterly\n",
    "plt.figure(figsize=(30,15))\n",
    "quarter_1_sales.plot(ax = quarter_2_sales.plot(kind ='bar'), kind='bar', color='g', alpha=0.2, legend=True)\n",
    "quarter_3_sales.plot(ax = quarter_4_sales.plot(kind ='bar'), kind='bar', color='red', alpha=0.2, legend=True)\n",
    "\n",
    "plt.legend([\"Q1' 2012\", \"Q2' 2012\", \"Q3' 2012\", \"Q4' 2012\"])"
   ]
  },
  {
   "cell_type": "markdown",
   "id": "M47m7RGIuRPe",
   "metadata": {
    "id": "M47m7RGIuRPe"
   },
   "source": [
    "### **I campare all the quater records with reach other and I found that Store No 4 have highest growth in 3rd quarter**"
   ]
  },
  {
   "cell_type": "markdown",
   "id": "Ka0nNL1dvMPS",
   "metadata": {
    "id": "Ka0nNL1dvMPS"
   },
   "source": [
    "#### After finding this , I decided to check the Growthrate of store in year 2012. To calculate that I decided to compare Q3 data with Q2 data."
   ]
  },
  {
   "cell_type": "code",
   "execution_count": 27,
   "id": "NqHW4yKLouVF",
   "metadata": {
    "colab": {
     "base_uri": "https://localhost:8080/"
    },
    "id": "NqHW4yKLouVF",
    "outputId": "55a1cb25-da98-46fa-89af-47f5b53c5d48"
   },
   "outputs": [
    {
     "data": {
      "text/plain": [
       "Store\n",
       "7     13.330776\n",
       "16     8.488378\n",
       "35     4.466637\n",
       "26     3.955478\n",
       "39     2.478404\n",
       "Name: Weekly_Sales, dtype: float64"
      ]
     },
     "execution_count": 27,
     "metadata": {},
     "output_type": "execute_result"
    }
   ],
   "source": [
    "#Calculating Growth rate in Q3'2012\n",
    "\n",
    "quarter_2_sales= clean_dataframe[(clean_dataframe['Date'] >= '2012-04-01') & (clean_dataframe['Date'] <= '2012-06-30')].groupby('Store')['Weekly_Sales'].sum()\n",
    "quarter_3_sales= clean_dataframe[(clean_dataframe['Date'] >= '2012-07-01') & (clean_dataframe['Date'] <= '2012-09-30')].groupby('Store')['Weekly_Sales'].sum()\n",
    "quarterly_growth_rate = ((quarter_3_sales - quarter_2_sales )/quarter_2_sales)*100\n",
    "quarterly_growth_rate.sort_values(ascending=False).head(5)"
   ]
  },
  {
   "cell_type": "code",
   "execution_count": 28,
   "id": "T9r_W5S71bOT",
   "metadata": {
    "colab": {
     "base_uri": "https://localhost:8080/",
     "height": 0
    },
    "id": "T9r_W5S71bOT",
    "outputId": "30e08b4d-e46d-46bd-92d6-b1da92d5528a"
   },
   "outputs": [
    {
     "data": {
      "text/plain": [
       "<matplotlib.axes._subplots.AxesSubplot at 0x7f635692c110>"
      ]
     },
     "execution_count": 28,
     "metadata": {},
     "output_type": "execute_result"
    },
    {
     "data": {
      "image/png": "[encoded data removed]",
      "text/plain": [
       "<Figure size 1080x504 with 1 Axes>"
      ]
     },
     "metadata": {
      "needs_background": "light"
     },
     "output_type": "display_data"
    }
   ],
   "source": [
    "plt.figure(figsize=(15,7))\n",
    "quarterly_growth_rate.sort_values(ascending=False).plot(kind='bar')"
   ]
  },
  {
   "cell_type": "markdown",
   "id": "cwDxr8yXv2uw",
   "metadata": {
    "id": "cwDxr8yXv2uw"
   },
   "source": [
    "#### On the Above OUTPUT we can see that store no 7,16,35 have the beast growth rate ehich means it perform better in Q3 compared to Q2. Store No 7 perform 13% better compared to Q2 and store No 14 and 45 have the wrost growth rate."
   ]
  },
  {
   "cell_type": "markdown",
   "id": "GU9zFVJi5Axl",
   "metadata": {
    "id": "GU9zFVJi5Axl"
   },
   "source": [
    "## **Holidays impact on sales.**\n",
    "\n",
    "### WE all know that Holiday always make significant impact on sales however not all the holidays make impact. Here I will visualize which holidays does not make any or less impact on sales. \n"
   ]
  },
  {
   "cell_type": "markdown",
   "id": "q_CyGVrV5tQ-",
   "metadata": {
    "id": "q_CyGVrV5tQ-"
   },
   "source": [
    "`Holiday Events:`\n",
    "\n",
    "\n",
    "\n",
    "1.  Labour Day: 10-Sep-10, 9-Sep-11, 7-Sep-12, 6-Sep-13\n",
    "\n",
    "2.  Thanksgiving: 26-Nov-10, 25-Nov-11, 23-Nov-12, 29-Nov-13\n",
    "\n",
    "3.  Christmas: 31-Dec-10, 30-Dec-11, 28-Dec-12, 27-Dec-13\n",
    "\n"
   ]
  },
  {
   "cell_type": "code",
   "execution_count": 29,
   "id": "ab_1lVRGoudG",
   "metadata": {
    "id": "ab_1lVRGoudG"
   },
   "outputs": [],
   "source": [
    "#Defining holiday dates\n",
    "\n",
    "Labour_Day =  ['10-9-2010', '9-9-2011', '7-9-2012']\n",
    "Thanksgiving = ['26-11-2010', '25-11-2011', '23-11-2012']\n",
    "Christmas = ['31-12-2010', '30-12-2011', '28-12-2012']"
   ]
  },
  {
   "cell_type": "code",
   "execution_count": 30,
   "id": "Aikgvxhkoufd",
   "metadata": {
    "id": "Aikgvxhkoufd"
   },
   "outputs": [],
   "source": [
    "#Calculating mean sales on holidays : \n",
    "\n",
    "Labour_Day_Sales = (pd.DataFrame(clean_dataframe.loc[clean_dataframe.Date.isin(Labour_Day)]))['Weekly_Sales'].mean()\n",
    "Thanksgiving_Sales = (pd.DataFrame(clean_dataframe.loc[clean_dataframe.Date.isin(Thanksgiving)]))['Weekly_Sales'].mean()\n",
    "Christmas_Sales = (pd.DataFrame(clean_dataframe.loc[clean_dataframe.Date.isin(Christmas)]))['Weekly_Sales'].mean()"
   ]
  },
  {
   "cell_type": "code",
   "execution_count": 31,
   "id": "OL9xBORI6tp1",
   "metadata": {
    "colab": {
     "base_uri": "https://localhost:8080/"
    },
    "id": "OL9xBORI6tp1",
    "outputId": "2f57baff-f594-4d60-a63c-88d2de50ca64"
   },
   "outputs": [
    {
     "name": "stdout",
     "output_type": "stream",
     "text": [
      "Mean of Labour Day Sales 15809.06948275864\n",
      "Mean of Thanksgiving Sales 22220.944537674088\n",
      "Mean of Christmas Sales 14543.387157753083\n"
     ]
    }
   ],
   "source": [
    "print('Mean of Labour Day Sales', Labour_Day_Sales)\n",
    "print('Mean of Thanksgiving Sales', Thanksgiving_Sales)\n",
    "print('Mean of Christmas Sales', Christmas_Sales)\n"
   ]
  },
  {
   "cell_type": "code",
   "execution_count": 32,
   "id": "Nsd8-J3u6MTW",
   "metadata": {
    "colab": {
     "base_uri": "https://localhost:8080/"
    },
    "id": "Nsd8-J3u6MTW",
    "outputId": "e784440a-f47e-4604-a3f0-02b915b2d40e"
   },
   "outputs": [
    {
     "data": {
      "text/plain": [
       "15901.445069008516"
      ]
     },
     "execution_count": 32,
     "metadata": {},
     "output_type": "execute_result"
    }
   ],
   "source": [
    "#Calculating mean sales on non-holidays :\n",
    "Non_Holiday_Sales = clean_dataframe[clean_dataframe['IsHoliday'] == 0 ]['Weekly_Sales'].mean()\n",
    "Non_Holiday_Sales"
   ]
  },
  {
   "cell_type": "code",
   "execution_count": 33,
   "id": "qzdUySNu6MXB",
   "metadata": {
    "colab": {
     "base_uri": "https://localhost:8080/"
    },
    "id": "qzdUySNu6MXB",
    "outputId": "28e64b6c-7f4c-4a5a-ac50-15e6d9d4f865"
   },
   "outputs": [
    {
     "data": {
      "text/plain": [
       "{'Christmas_Sales': 14543.387157753083,\n",
       " 'Labour_Day_Sales': 15809.06948275864,\n",
       " 'Non_Holiday_Sales': 15901.445069008516,\n",
       " 'Thanksgiving_Sales': 22220.944537674088}"
      ]
     },
     "execution_count": 33,
     "metadata": {},
     "output_type": "execute_result"
    }
   ],
   "source": [
    "Mean_Sales = {'Labour_Day_Sales': Labour_Day_Sales,\n",
    "              'Thanksgiving_Sales':Thanksgiving_Sales,\n",
    "              'Christmas_Sales': Christmas_Sales,\n",
    "              'Non_Holiday_Sales': Non_Holiday_Sales}\n",
    "Mean_Sales "
   ]
  },
  {
   "cell_type": "markdown",
   "id": "6qXlfPpH6VPa",
   "metadata": {
    "id": "6qXlfPpH6VPa"
   },
   "source": [
    "#### Clearly, Thanksgiving has higher sales than the mean sales on non-holidays."
   ]
  },
  {
   "cell_type": "markdown",
   "id": "jd82rtsK_5-9",
   "metadata": {
    "id": "jd82rtsK_5-9"
   },
   "source": [
    "## **Visualizing monthly view of sales in units and its insights.**"
   ]
  },
  {
   "cell_type": "code",
   "execution_count": 34,
   "id": "tZLYQEVK6Mah",
   "metadata": {
    "colab": {
     "base_uri": "https://localhost:8080/",
     "height": 1000
    },
    "id": "tZLYQEVK6Mah",
    "outputId": "c09a4d14-a50d-43fa-dfe8-95ead7db4ce7"
   },
   "outputs": [
    {
     "data": {
      "image/png": "[encoded data removed]",
      "text/plain": [
       "<Figure size 1080x720 with 1 Axes>"
      ]
     },
     "metadata": {
      "needs_background": "light"
     },
     "output_type": "display_data"
    },
    {
     "data": {
      "image/png": "[encoded data removed]",
      "text/plain": [
       "<Figure size 1080x720 with 1 Axes>"
      ]
     },
     "metadata": {
      "needs_background": "light"
     },
     "output_type": "display_data"
    },
    {
     "data": {
      "image/png": "[encoded data removed]",
      "text/plain": [
       "<Figure size 1080x720 with 1 Axes>"
      ]
     },
     "metadata": {
      "needs_background": "light"
     },
     "output_type": "display_data"
    }
   ],
   "source": [
    "#Year-wise Monthly Sales\n",
    "\n",
    "\n",
    "#Here I am making 3 seprate graph of 2010, 2011 and 2012 \n",
    "plt.figure(figsize=(15,10))\n",
    "plt.scatter(clean_dataframe[clean_dataframe.year == 2010][\"Month\"],clean_dataframe[clean_dataframe.year == 2010][\"Weekly_Sales\"])\n",
    "plt.xlabel(\"Months\")\n",
    "plt.ylabel(\"Weekly Sales\")\n",
    "plt.title(\"Monthly view of sales in 2010\")\n",
    "plt.show()\n",
    "\n",
    "plt.figure(figsize=(15,10))\n",
    "plt.scatter(clean_dataframe[clean_dataframe.year == 2011][\"Month\"],clean_dataframe[clean_dataframe.year == 2011][\"Weekly_Sales\"])\n",
    "plt.xlabel(\"Months\")\n",
    "plt.ylabel(\"Weekly Sales\")\n",
    "plt.title(\"Monthly view of sales in 2011\")\n",
    "plt.show()\n",
    "\n",
    "plt.figure(figsize=(15,10))\n",
    "plt.scatter(clean_dataframe[clean_dataframe.year == 2012][\"Month\"],clean_dataframe[clean_dataframe.year == 2012][\"Weekly_Sales\"])\n",
    "plt.xlabel(\"Months\")\n",
    "plt.ylabel(\"Weekly Sales\")\n",
    "plt.title(\"Monthly view of sales in 2012\")\n",
    "plt.show()"
   ]
  },
  {
   "cell_type": "markdown",
   "id": "OVQBdyOIBmAO",
   "metadata": {
    "id": "OVQBdyOIBmAO"
   },
   "source": [
    "### From above 3 plots onw thing is clear that in year 2012 Sales growth rate increase tremendously. "
   ]
  },
  {
   "cell_type": "markdown",
   "id": "ocfDAS2ceKxC",
   "metadata": {
    "id": "ocfDAS2ceKxC"
   },
   "source": [
    "## **Overall Monthly Sales**"
   ]
  },
  {
   "cell_type": "code",
   "execution_count": 35,
   "id": "G7iuPEVw_4PU",
   "metadata": {
    "colab": {
     "base_uri": "https://localhost:8080/",
     "height": 458
    },
    "id": "G7iuPEVw_4PU",
    "outputId": "e32d6c43-d46c-4e34-dae8-97e5ddf01c27"
   },
   "outputs": [
    {
     "data": {
      "image/png": "[encoded data removed]",
      "text/plain": [
       "<Figure size 1080x504 with 1 Axes>"
      ]
     },
     "metadata": {
      "needs_background": "light"
     },
     "output_type": "display_data"
    }
   ],
   "source": [
    "plt.figure(figsize=(15,11))\n",
    "plt.bar(clean_dataframe[\"Month\"],clean_dataframe[\"Weekly_Sales\"])\n",
    "plt.xlabel(\"Months\")\n",
    "plt.ylabel(\"Weekly Sales\")\n",
    "plt.title(\"Monthly view of sales\")\n",
    "plt.show()"
   ]
  },
  {
   "cell_type": "markdown",
   "id": "bNnHG1yegcHT",
   "metadata": {
    "id": "bNnHG1yegcHT"
   },
   "source": [
    "### In Above plot we can see that, overall monthly sales are higher in the month of November and December. The reason behind this Holidays like Thanksgiving and Black Friday were came in November and Christmas Holidays are in December."
   ]
  },
  {
   "cell_type": "markdown",
   "id": "4Zd5oMpzg4rX",
   "metadata": {
    "id": "4Zd5oMpzg4rX"
   },
   "source": [
    "# Model 1 Random Forest Regressor Model "
   ]
  },
  {
   "cell_type": "markdown",
   "id": "xcQI9mrPgzmD",
   "metadata": {
    "id": "xcQI9mrPgzmD"
   },
   "source": [
    "### **Now I am Building Prediction Model for Store to Forecast Demand. Here I am using Random Forest Regressor Model. I choose this model because I think for this dataset this is the best model. It has lot of Advantes like it uses averaging to improve the predictive accuracy and control over-fitting. In model I will Utilize variables like date and restructure dates as 1 for 5 Feb 2010. Hypothesize if CPI, unemployment, and fuel price have any impact on sales. Change dates into days by creating new variable.**"
   ]
  },
  {
   "cell_type": "code",
   "execution_count": 87,
   "id": "-OcBGFffCNjn",
   "metadata": {
    "colab": {
     "base_uri": "https://localhost:8080/",
     "height": 932
    },
    "id": "-OcBGFffCNjn",
    "outputId": "8de5e459-aec6-4362-8269-4ddda4b96fa0"
   },
   "outputs": [
    {
     "data": {
      "image/png": "[encoded data removed]",
      "text/plain": [
       "<Figure size 1152x1152 with 4 Axes>"
      ]
     },
     "metadata": {
      "needs_background": "light"
     },
     "output_type": "display_data"
    }
   ],
   "source": [
    "#First I will check that any outlier present in data \n",
    "\n",
    "fig, axis = plt.subplots(4,figsize=(16,16))\n",
    "X = clean_dataframe[['Temperature','Fuel_Price','CPI','Unemployment']]\n",
    "for i,column in enumerate(X):\n",
    "    sns.boxplot(clean_dataframe[column],ax=axis[i])"
   ]
  },
  {
   "cell_type": "markdown",
   "id": "WuEt7sGKiCMe",
   "metadata": {
    "id": "WuEt7sGKiCMe"
   },
   "source": [
    "### I have detect some outliers in the unemployment columns."
   ]
  },
  {
   "cell_type": "code",
   "execution_count": 88,
   "id": "nn1jrwFJCNrl",
   "metadata": {
    "colab": {
     "base_uri": "https://localhost:8080/",
     "height": 424
    },
    "id": "nn1jrwFJCNrl",
    "outputId": "13d6dceb-1c62-4121-cc79-3afccfd2180b"
   },
   "outputs": [
    {
     "data": {
      "text/html": [
       "<div>\n",
       "<style scoped>\n",
       "    .dataframe tbody tr th:only-of-type {\n",
       "        vertical-align: middle;\n",
       "    }\n",
       "\n",
       "    .dataframe tbody tr th {\n",
       "        vertical-align: top;\n",
       "    }\n",
       "\n",
       "    .dataframe thead th {\n",
       "        text-align: right;\n",
       "    }\n",
       "</style>\n",
       "<table border=\"1\" class=\"dataframe\">\n",
       "  <thead>\n",
       "    <tr style=\"text-align: right;\">\n",
       "      <th></th>\n",
       "      <th>Store</th>\n",
       "      <th>Dept</th>\n",
       "      <th>Date</th>\n",
       "      <th>Weekly_Sales</th>\n",
       "      <th>IsHoliday</th>\n",
       "      <th>Temperature</th>\n",
       "      <th>Fuel_Price</th>\n",
       "      <th>CPI</th>\n",
       "      <th>Unemployment</th>\n",
       "      <th>Type</th>\n",
       "      <th>Size</th>\n",
       "      <th>week</th>\n",
       "      <th>year</th>\n",
       "      <th>Day</th>\n",
       "      <th>Month</th>\n",
       "    </tr>\n",
       "  </thead>\n",
       "  <tbody>\n",
       "    <tr>\n",
       "      <th>0</th>\n",
       "      <td>1</td>\n",
       "      <td>1</td>\n",
       "      <td>2010-02-05</td>\n",
       "      <td>24924.50</td>\n",
       "      <td>0</td>\n",
       "      <td>42.31</td>\n",
       "      <td>2.572</td>\n",
       "      <td>211.096358</td>\n",
       "      <td>8.106</td>\n",
       "      <td>A</td>\n",
       "      <td>151315</td>\n",
       "      <td>5</td>\n",
       "      <td>2010</td>\n",
       "      <td>5</td>\n",
       "      <td>2</td>\n",
       "    </tr>\n",
       "    <tr>\n",
       "      <th>1</th>\n",
       "      <td>1</td>\n",
       "      <td>1</td>\n",
       "      <td>2010-02-12</td>\n",
       "      <td>46039.49</td>\n",
       "      <td>1</td>\n",
       "      <td>38.51</td>\n",
       "      <td>2.548</td>\n",
       "      <td>211.242170</td>\n",
       "      <td>8.106</td>\n",
       "      <td>A</td>\n",
       "      <td>151315</td>\n",
       "      <td>6</td>\n",
       "      <td>2010</td>\n",
       "      <td>12</td>\n",
       "      <td>2</td>\n",
       "    </tr>\n",
       "    <tr>\n",
       "      <th>2</th>\n",
       "      <td>1</td>\n",
       "      <td>1</td>\n",
       "      <td>2010-02-19</td>\n",
       "      <td>41595.55</td>\n",
       "      <td>0</td>\n",
       "      <td>39.93</td>\n",
       "      <td>2.514</td>\n",
       "      <td>211.289143</td>\n",
       "      <td>8.106</td>\n",
       "      <td>A</td>\n",
       "      <td>151315</td>\n",
       "      <td>7</td>\n",
       "      <td>2010</td>\n",
       "      <td>19</td>\n",
       "      <td>2</td>\n",
       "    </tr>\n",
       "    <tr>\n",
       "      <th>3</th>\n",
       "      <td>1</td>\n",
       "      <td>1</td>\n",
       "      <td>2010-02-26</td>\n",
       "      <td>19403.54</td>\n",
       "      <td>0</td>\n",
       "      <td>46.63</td>\n",
       "      <td>2.561</td>\n",
       "      <td>211.319643</td>\n",
       "      <td>8.106</td>\n",
       "      <td>A</td>\n",
       "      <td>151315</td>\n",
       "      <td>8</td>\n",
       "      <td>2010</td>\n",
       "      <td>26</td>\n",
       "      <td>2</td>\n",
       "    </tr>\n",
       "    <tr>\n",
       "      <th>4</th>\n",
       "      <td>1</td>\n",
       "      <td>1</td>\n",
       "      <td>2010-03-05</td>\n",
       "      <td>21827.90</td>\n",
       "      <td>0</td>\n",
       "      <td>46.50</td>\n",
       "      <td>2.625</td>\n",
       "      <td>211.350143</td>\n",
       "      <td>8.106</td>\n",
       "      <td>A</td>\n",
       "      <td>151315</td>\n",
       "      <td>9</td>\n",
       "      <td>2010</td>\n",
       "      <td>5</td>\n",
       "      <td>3</td>\n",
       "    </tr>\n",
       "    <tr>\n",
       "      <th>...</th>\n",
       "      <td>...</td>\n",
       "      <td>...</td>\n",
       "      <td>...</td>\n",
       "      <td>...</td>\n",
       "      <td>...</td>\n",
       "      <td>...</td>\n",
       "      <td>...</td>\n",
       "      <td>...</td>\n",
       "      <td>...</td>\n",
       "      <td>...</td>\n",
       "      <td>...</td>\n",
       "      <td>...</td>\n",
       "      <td>...</td>\n",
       "      <td>...</td>\n",
       "      <td>...</td>\n",
       "    </tr>\n",
       "    <tr>\n",
       "      <th>421565</th>\n",
       "      <td>45</td>\n",
       "      <td>98</td>\n",
       "      <td>2012-09-28</td>\n",
       "      <td>508.37</td>\n",
       "      <td>0</td>\n",
       "      <td>64.88</td>\n",
       "      <td>3.997</td>\n",
       "      <td>192.013558</td>\n",
       "      <td>8.684</td>\n",
       "      <td>B</td>\n",
       "      <td>118221</td>\n",
       "      <td>39</td>\n",
       "      <td>2012</td>\n",
       "      <td>28</td>\n",
       "      <td>9</td>\n",
       "    </tr>\n",
       "    <tr>\n",
       "      <th>421566</th>\n",
       "      <td>45</td>\n",
       "      <td>98</td>\n",
       "      <td>2012-10-05</td>\n",
       "      <td>628.10</td>\n",
       "      <td>0</td>\n",
       "      <td>64.89</td>\n",
       "      <td>3.985</td>\n",
       "      <td>192.170412</td>\n",
       "      <td>8.667</td>\n",
       "      <td>B</td>\n",
       "      <td>118221</td>\n",
       "      <td>40</td>\n",
       "      <td>2012</td>\n",
       "      <td>5</td>\n",
       "      <td>10</td>\n",
       "    </tr>\n",
       "    <tr>\n",
       "      <th>421567</th>\n",
       "      <td>45</td>\n",
       "      <td>98</td>\n",
       "      <td>2012-10-12</td>\n",
       "      <td>1061.02</td>\n",
       "      <td>0</td>\n",
       "      <td>54.47</td>\n",
       "      <td>4.000</td>\n",
       "      <td>192.327265</td>\n",
       "      <td>8.667</td>\n",
       "      <td>B</td>\n",
       "      <td>118221</td>\n",
       "      <td>41</td>\n",
       "      <td>2012</td>\n",
       "      <td>12</td>\n",
       "      <td>10</td>\n",
       "    </tr>\n",
       "    <tr>\n",
       "      <th>421568</th>\n",
       "      <td>45</td>\n",
       "      <td>98</td>\n",
       "      <td>2012-10-19</td>\n",
       "      <td>760.01</td>\n",
       "      <td>0</td>\n",
       "      <td>56.47</td>\n",
       "      <td>3.969</td>\n",
       "      <td>192.330854</td>\n",
       "      <td>8.667</td>\n",
       "      <td>B</td>\n",
       "      <td>118221</td>\n",
       "      <td>42</td>\n",
       "      <td>2012</td>\n",
       "      <td>19</td>\n",
       "      <td>10</td>\n",
       "    </tr>\n",
       "    <tr>\n",
       "      <th>421569</th>\n",
       "      <td>45</td>\n",
       "      <td>98</td>\n",
       "      <td>2012-10-26</td>\n",
       "      <td>1076.80</td>\n",
       "      <td>0</td>\n",
       "      <td>58.85</td>\n",
       "      <td>3.882</td>\n",
       "      <td>192.308899</td>\n",
       "      <td>8.667</td>\n",
       "      <td>B</td>\n",
       "      <td>118221</td>\n",
       "      <td>43</td>\n",
       "      <td>2012</td>\n",
       "      <td>26</td>\n",
       "      <td>10</td>\n",
       "    </tr>\n",
       "  </tbody>\n",
       "</table>\n",
       "<p>372190 rows × 15 columns</p>\n",
       "</div>"
      ],
      "text/plain": [
       "        Store  Dept       Date  Weekly_Sales  ...  week  year  Day  Month\n",
       "0           1     1 2010-02-05      24924.50  ...     5  2010    5      2\n",
       "1           1     1 2010-02-12      46039.49  ...     6  2010   12      2\n",
       "2           1     1 2010-02-19      41595.55  ...     7  2010   19      2\n",
       "3           1     1 2010-02-26      19403.54  ...     8  2010   26      2\n",
       "4           1     1 2010-03-05      21827.90  ...     9  2010    5      3\n",
       "...       ...   ...        ...           ...  ...   ...   ...  ...    ...\n",
       "421565     45    98 2012-09-28        508.37  ...    39  2012   28      9\n",
       "421566     45    98 2012-10-05        628.10  ...    40  2012    5     10\n",
       "421567     45    98 2012-10-12       1061.02  ...    41  2012   12     10\n",
       "421568     45    98 2012-10-19        760.01  ...    42  2012   19     10\n",
       "421569     45    98 2012-10-26       1076.80  ...    43  2012   26     10\n",
       "\n",
       "[372190 rows x 15 columns]"
      ]
     },
     "execution_count": 88,
     "metadata": {},
     "output_type": "execute_result"
    }
   ],
   "source": [
    "# Here in this code I am removeing outliers that are present in the Unemployment column.\n",
    "#here i am taking only records that have Unemployment rate less than 10 and above 4.5\n",
    "\n",
    "clean_dataframe = clean_dataframe[(clean_dataframe['Unemployment'] < 10) & (clean_dataframe['Unemployment'] > 4.5) ]\n",
    "clean_dataframe"
   ]
  },
  {
   "cell_type": "code",
   "execution_count": 89,
   "id": "K2QuB06l_4SA",
   "metadata": {
    "colab": {
     "base_uri": "https://localhost:8080/",
     "height": 932
    },
    "id": "K2QuB06l_4SA",
    "outputId": "3e15b07a-ccb0-46c5-a858-db4a1c2610e2"
   },
   "outputs": [
    {
     "data": {
      "image/png": "[encoded data removed]",
      "text/plain": [
       "<Figure size 1152x1152 with 4 Axes>"
      ]
     },
     "metadata": {
      "needs_background": "light"
     },
     "output_type": "display_data"
    }
   ],
   "source": [
    "#After removing outliers from the dataset here i am checking again for any poutliers present or not\n",
    "fig, axis = plt.subplots(4,figsize=(16,16))\n",
    "X = clean_dataframe[['Temperature','Fuel_Price','CPI','Unemployment']]\n",
    "for i,column in enumerate(X):\n",
    "    sns.boxplot(clean_dataframe[column], ax=axis[i])\n"
   ]
  },
  {
   "cell_type": "code",
   "execution_count": 117,
   "id": "njB4vv6ej38d",
   "metadata": {
    "colab": {
     "base_uri": "https://localhost:8080/"
    },
    "id": "njB4vv6ej38d",
    "outputId": "228f01f6-1317-4701-ea5a-c0385aad0ce0"
   },
   "outputs": [
    {
     "name": "stdout",
     "output_type": "stream",
     "text": [
      "Accuracy: 7.426683818191182\n",
      "Mean Absolute Error: 14562.940620769647\n",
      "Mean Squared Error: 496224863.38179994\n",
      "Root Mean Squared Error: 22276.10521123026\n"
     ]
    }
   ],
   "source": [
    "# Random Forest Regressor\n",
    "\n",
    "# Variable X contains the Features columns \n",
    "# Variable Y contains the Target Variable which is Weekly Sales\n",
    "\n",
    "X = clean_dataframe[['Store','Fuel_Price','CPI','Unemployment','Day','Month','year','IsHoliday']]\n",
    "Y = clean_dataframe['Weekly_Sales']\n",
    "\n",
    "#Below code I am spliting dataset whwere 70% data will used as Training data and 30% of DAta will bes used as Testing data\n",
    "X_train, X_test, Y_train, Y_test = train_test_split(X,Y, test_size=0.3)\n",
    "\n",
    "#I am using Random Forest Model with the n_estimators 120\n",
    "Random_Regressor_model = RandomForestRegressor(n_estimators = 120)        \n",
    "Random_Regressor_model.fit(X_train,Y_train)\n",
    "\n",
    "Y_pred = Random_Regressor_model.predict(X_test)\n",
    "\n",
    "print('Accuracy:',Random_Regressor_model.score(X_test, Y_test))\n",
    "print('Mean Absolute Error:', metrics.mean_absolute_error(Y_test, Y_pred))\n",
    "print('Mean Squared Error:', metrics.mean_squared_error(Y_test, Y_pred))\n",
    "print('Root Mean Squared Error:', np.sqrt(metrics.mean_squared_error(Y_test, Y_pred)))\n"
   ]
  },
  {
   "cell_type": "markdown",
   "id": "d5b64b8d",
   "metadata": {},
   "source": [
    "## Random Forest Regressor model gives accuracy of around 74%"
   ]
  },
  {
   "cell_type": "code",
   "execution_count": null,
   "id": "1c11860e",
   "metadata": {},
   "outputs": [],
   "source": []
  }
 ],
 "metadata": {
  "accelerator": "GPU",
  "colab": {
   "collapsed_sections": [
    "xA4MsgSqRqmW",
    "CYrse2u1RzhR",
    "kK747g9aqQgn",
    "YGW3bdDyQfGn",
    "NDK6sL6yqeVi",
    "p71R6vcisJ7f",
    "GU9zFVJi5Axl",
    "jd82rtsK_5-9",
    "4Zd5oMpzg4rX",
    "xcQI9mrPgzmD",
    "UK6ch9nVLeGG",
    "gjKcfXK4QXgx"
   ],
   "name": "Individual Project .ipynb",
   "provenance": []
  },
  "kernelspec": {
   "display_name": "Python 3",
   "language": "python",
   "name": "python3"
  },
  "language_info": {
   "codemirror_mode": {
    "name": "ipython",
    "version": 3
   },
   "file_extension": ".py",
   "mimetype": "text/x-python",
   "name": "python",
   "nbconvert_exporter": "python",
   "pygments_lexer": "ipython3",
   "version": "3.6.13"
  }
 },
 "nbformat": 4,
 "nbformat_minor": 5
}
